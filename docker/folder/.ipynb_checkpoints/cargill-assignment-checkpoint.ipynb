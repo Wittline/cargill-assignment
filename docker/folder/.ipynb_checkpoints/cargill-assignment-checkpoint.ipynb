{
 "cells": [
  {
   "cell_type": "code",
   "execution_count": 1,
   "id": "7187bba1",
   "metadata": {},
   "outputs": [
    {
     "name": "stdout",
     "output_type": "stream",
     "text": [
      "Collecting psycopg2-binary\n",
      "  Downloading psycopg2_binary-2.9.1-cp39-cp39-manylinux_2_17_x86_64.manylinux2014_x86_64.whl (3.4 MB)\n",
      "\u001b[K     |████████████████████████████████| 3.4 MB 109 kB/s eta 0:00:01\n",
      "\u001b[?25hInstalling collected packages: psycopg2-binary\n",
      "Successfully installed psycopg2-binary-2.9.1\n",
      "Collecting pandas\n",
      "  Downloading pandas-1.3.0-cp39-cp39-manylinux_2_5_x86_64.manylinux1_x86_64.whl (10.6 MB)\n",
      "\u001b[K     |████████████████████████████████| 10.6 MB 185 kB/s eta 0:00:01\n",
      "\u001b[?25hCollecting numpy>=1.17.3\n",
      "  Downloading numpy-1.21.0-cp39-cp39-manylinux_2_12_x86_64.manylinux2010_x86_64.whl (15.7 MB)\n",
      "\u001b[K     |████████████████████████████████| 15.7 MB 1.6 MB/s eta 0:00:01\n",
      "\u001b[?25hRequirement already satisfied: pytz>=2017.3 in /opt/conda/lib/python3.9/site-packages (from pandas) (2021.1)\n",
      "Requirement already satisfied: python-dateutil>=2.7.3 in /opt/conda/lib/python3.9/site-packages (from pandas) (2.8.1)\n",
      "Requirement already satisfied: six>=1.5 in /opt/conda/lib/python3.9/site-packages (from python-dateutil>=2.7.3->pandas) (1.16.0)\n",
      "Installing collected packages: numpy, pandas\n",
      "Successfully installed numpy-1.21.0 pandas-1.3.0\n"
     ]
    }
   ],
   "source": [
    "!pip install psycopg2-binary\n",
    "!pip install pandas"
   ]
  },
  {
   "cell_type": "code",
   "execution_count": 1,
   "id": "5542ec21",
   "metadata": {},
   "outputs": [],
   "source": [
    "import psycopg2\n",
    "import pandas as pd\n",
    "import db_engine as dbe"
   ]
  },
  {
   "cell_type": "code",
   "execution_count": 2,
   "id": "58f09ad9",
   "metadata": {},
   "outputs": [],
   "source": [
    "params = {\n",
    "    \"host\"      : \"pg_container\",\n",
    "    \"database\"  : \"cargill_db\",\n",
    "    \"user\"      : \"cargill\",\n",
    "    \"password\"  : \"cargill\"\n",
    "}"
   ]
  },
  {
   "cell_type": "code",
   "execution_count": 3,
   "id": "36a6c50e",
   "metadata": {},
   "outputs": [
    {
     "name": "stdout",
     "output_type": "stream",
     "text": [
      "Connecting to the PostgreSQL database\n",
      "PostgreSQL database version:\n",
      "('PostgreSQL 13.3 (Debian 13.3-1.pgdg100+1) on x86_64-pc-linux-gnu, compiled by gcc (Debian 8.3.0-6) 8.3.0, 64-bit',)\n"
     ]
    }
   ],
   "source": [
    "cur, conn = dbe.create_connection(params)"
   ]
  },
  {
   "cell_type": "code",
   "execution_count": 4,
   "id": "aa15fac4",
   "metadata": {},
   "outputs": [
    {
     "name": "stdout",
     "output_type": "stream",
     "text": [
      "Executing: DROP TABLE IF EXISTS Sales\n",
      "Executing: DROP TABLE IF EXISTS Discounts\n",
      "Executing: DROP TABLE IF EXISTS Sales2\n",
      "Executing: DROP TABLE IF EXISTS Order_detail\n"
     ]
    }
   ],
   "source": [
    "dbe.drop_tables(cur, conn)"
   ]
  },
  {
   "cell_type": "code",
   "execution_count": 5,
   "id": "a00912ac",
   "metadata": {},
   "outputs": [
    {
     "name": "stdout",
     "output_type": "stream",
     "text": [
      "Tables created\n"
     ]
    }
   ],
   "source": [
    "dbe.create_tables(cur, conn)"
   ]
  },
  {
   "cell_type": "code",
   "execution_count": 6,
   "id": "4bb28452",
   "metadata": {},
   "outputs": [
    {
     "name": "stdout",
     "output_type": "stream",
     "text": [
      "Records were inserted\n"
     ]
    }
   ],
   "source": [
    "dbe.insert_all(cur, conn)"
   ]
  },
  {
   "cell_type": "markdown",
   "id": "32016bc5",
   "metadata": {},
   "source": [
    "# Base Case\n",
    "\n",
    "- This approach meets all the conditions that the requirement is asking\n",
    "- The update of the discount applied has more complexity\n",
    "\n",
    "![initial](https://user-images.githubusercontent.com/8701464/125843250-e545b578-dc04-41b9-a3ca-a5e22d72b060.png)"
   ]
  },
  {
   "cell_type": "code",
   "execution_count": 7,
   "id": "e4388b65",
   "metadata": {},
   "outputs": [
    {
     "data": {
      "text/html": [
       "<div>\n",
       "<style scoped>\n",
       "    .dataframe tbody tr th:only-of-type {\n",
       "        vertical-align: middle;\n",
       "    }\n",
       "\n",
       "    .dataframe tbody tr th {\n",
       "        vertical-align: top;\n",
       "    }\n",
       "\n",
       "    .dataframe thead th {\n",
       "        text-align: right;\n",
       "    }\n",
       "</style>\n",
       "<table border=\"1\" class=\"dataframe\">\n",
       "  <thead>\n",
       "    <tr style=\"text-align: right;\">\n",
       "      <th></th>\n",
       "      <th>sales_order_id</th>\n",
       "      <th>sales_order_item</th>\n",
       "      <th>customer_id</th>\n",
       "      <th>date</th>\n",
       "      <th>transaction_value</th>\n",
       "      <th>discounted_value</th>\n",
       "    </tr>\n",
       "  </thead>\n",
       "  <tbody>\n",
       "    <tr>\n",
       "      <th>0</th>\n",
       "      <td>1</td>\n",
       "      <td>2</td>\n",
       "      <td>150</td>\n",
       "      <td>2021-07-16 00:03:19.190933</td>\n",
       "      <td>200.0</td>\n",
       "      <td>200.0</td>\n",
       "    </tr>\n",
       "    <tr>\n",
       "      <th>1</th>\n",
       "      <td>1</td>\n",
       "      <td>3</td>\n",
       "      <td>150</td>\n",
       "      <td>2021-07-16 00:03:19.190933</td>\n",
       "      <td>310.0</td>\n",
       "      <td>310.0</td>\n",
       "    </tr>\n",
       "    <tr>\n",
       "      <th>2</th>\n",
       "      <td>1</td>\n",
       "      <td>4</td>\n",
       "      <td>150</td>\n",
       "      <td>2021-07-16 00:03:19.190933</td>\n",
       "      <td>80.0</td>\n",
       "      <td>80.0</td>\n",
       "    </tr>\n",
       "  </tbody>\n",
       "</table>\n",
       "</div>"
      ],
      "text/plain": [
       "   sales_order_id  sales_order_item  customer_id                       date  \\\n",
       "0               1                 2          150 2021-07-16 00:03:19.190933   \n",
       "1               1                 3          150 2021-07-16 00:03:19.190933   \n",
       "2               1                 4          150 2021-07-16 00:03:19.190933   \n",
       "\n",
       "   transaction_value  discounted_value  \n",
       "0              200.0             200.0  \n",
       "1              310.0             310.0  \n",
       "2               80.0              80.0  "
      ]
     },
     "execution_count": 7,
     "metadata": {},
     "output_type": "execute_result"
    }
   ],
   "source": [
    "columns = [\"sales_order_id\", \"sales_order_item\", \"customer_id\", \"date\", \"transaction_value\", \"discounted_value\" ]\n",
    "df = dbe.pg_to_pd(cur, \"select * from sales\", columns)\n",
    "df.head()"
   ]
  },
  {
   "cell_type": "code",
   "execution_count": 8,
   "id": "3de4d4ef",
   "metadata": {},
   "outputs": [
    {
     "data": {
      "text/html": [
       "<div>\n",
       "<style scoped>\n",
       "    .dataframe tbody tr th:only-of-type {\n",
       "        vertical-align: middle;\n",
       "    }\n",
       "\n",
       "    .dataframe tbody tr th {\n",
       "        vertical-align: top;\n",
       "    }\n",
       "\n",
       "    .dataframe thead th {\n",
       "        text-align: right;\n",
       "    }\n",
       "</style>\n",
       "<table border=\"1\" class=\"dataframe\">\n",
       "  <thead>\n",
       "    <tr style=\"text-align: right;\">\n",
       "      <th></th>\n",
       "      <th>sales_order_id</th>\n",
       "      <th>customer_id</th>\n",
       "      <th>discount_value</th>\n",
       "    </tr>\n",
       "  </thead>\n",
       "  <tbody>\n",
       "    <tr>\n",
       "      <th>0</th>\n",
       "      <td>1</td>\n",
       "      <td>150</td>\n",
       "      <td>0.3</td>\n",
       "    </tr>\n",
       "  </tbody>\n",
       "</table>\n",
       "</div>"
      ],
      "text/plain": [
       "   sales_order_id  customer_id  discount_value\n",
       "0               1          150             0.3"
      ]
     },
     "execution_count": 8,
     "metadata": {},
     "output_type": "execute_result"
    }
   ],
   "source": [
    "columns = [\"sales_order_id\", \"customer_id\", \"discount_value\" ]\n",
    "df = dbe.pg_to_pd(cur, \"select * from discounts\", columns)\n",
    "df.head()"
   ]
  },
  {
   "cell_type": "code",
   "execution_count": 9,
   "id": "694e6335",
   "metadata": {},
   "outputs": [
    {
     "name": "stdout",
     "output_type": "stream",
     "text": [
      "Table updated\n"
     ]
    }
   ],
   "source": [
    "dbe.update(cur, conn, 'sales', [1, 150])"
   ]
  },
  {
   "cell_type": "code",
   "execution_count": 10,
   "id": "8de3c979",
   "metadata": {},
   "outputs": [
    {
     "data": {
      "text/html": [
       "<div>\n",
       "<style scoped>\n",
       "    .dataframe tbody tr th:only-of-type {\n",
       "        vertical-align: middle;\n",
       "    }\n",
       "\n",
       "    .dataframe tbody tr th {\n",
       "        vertical-align: top;\n",
       "    }\n",
       "\n",
       "    .dataframe thead th {\n",
       "        text-align: right;\n",
       "    }\n",
       "</style>\n",
       "<table border=\"1\" class=\"dataframe\">\n",
       "  <thead>\n",
       "    <tr style=\"text-align: right;\">\n",
       "      <th></th>\n",
       "      <th>sales_order_id</th>\n",
       "      <th>sales_order_item</th>\n",
       "      <th>customer_id</th>\n",
       "      <th>date</th>\n",
       "      <th>transaction_value</th>\n",
       "      <th>discounted_value</th>\n",
       "    </tr>\n",
       "  </thead>\n",
       "  <tbody>\n",
       "    <tr>\n",
       "      <th>0</th>\n",
       "      <td>1</td>\n",
       "      <td>2</td>\n",
       "      <td>150</td>\n",
       "      <td>2021-07-16 00:03:19.190933</td>\n",
       "      <td>200.0</td>\n",
       "      <td>140.0</td>\n",
       "    </tr>\n",
       "    <tr>\n",
       "      <th>1</th>\n",
       "      <td>1</td>\n",
       "      <td>3</td>\n",
       "      <td>150</td>\n",
       "      <td>2021-07-16 00:03:19.190933</td>\n",
       "      <td>310.0</td>\n",
       "      <td>217.0</td>\n",
       "    </tr>\n",
       "    <tr>\n",
       "      <th>2</th>\n",
       "      <td>1</td>\n",
       "      <td>4</td>\n",
       "      <td>150</td>\n",
       "      <td>2021-07-16 00:03:19.190933</td>\n",
       "      <td>80.0</td>\n",
       "      <td>56.0</td>\n",
       "    </tr>\n",
       "  </tbody>\n",
       "</table>\n",
       "</div>"
      ],
      "text/plain": [
       "   sales_order_id  sales_order_item  customer_id                       date  \\\n",
       "0               1                 2          150 2021-07-16 00:03:19.190933   \n",
       "1               1                 3          150 2021-07-16 00:03:19.190933   \n",
       "2               1                 4          150 2021-07-16 00:03:19.190933   \n",
       "\n",
       "   transaction_value  discounted_value  \n",
       "0              200.0             140.0  \n",
       "1              310.0             217.0  \n",
       "2               80.0              56.0  "
      ]
     },
     "execution_count": 10,
     "metadata": {},
     "output_type": "execute_result"
    }
   ],
   "source": [
    "columns = [\"sales_order_id\", \"sales_order_item\", \"customer_id\", \"date\", \"transaction_value\", \"discounted_value\" ]\n",
    "df = dbe.pg_to_pd(cur, \"select * from Sales\", columns)\n",
    "df.head()"
   ]
  },
  {
   "cell_type": "markdown",
   "id": "ce57a74e",
   "metadata": {},
   "source": [
    "# Edge case\n",
    "\n",
    "- This approach meets the requirements of the problem, but also has more advanced features.\n",
    "- You can have an order with more than one unit of the same item (quantity)\n",
    "- Each discount can be an independent percentage\n",
    "- Discount update is less complex\n",
    "\n",
    "![second](https://user-images.githubusercontent.com/8701464/125843261-a78879e1-528b-4931-9598-d76d5d57e1f1.png)"
   ]
  },
  {
   "cell_type": "code",
   "execution_count": 11,
   "id": "e3d6a1aa",
   "metadata": {},
   "outputs": [
    {
     "data": {
      "text/html": [
       "<div>\n",
       "<style scoped>\n",
       "    .dataframe tbody tr th:only-of-type {\n",
       "        vertical-align: middle;\n",
       "    }\n",
       "\n",
       "    .dataframe tbody tr th {\n",
       "        vertical-align: top;\n",
       "    }\n",
       "\n",
       "    .dataframe thead th {\n",
       "        text-align: right;\n",
       "    }\n",
       "</style>\n",
       "<table border=\"1\" class=\"dataframe\">\n",
       "  <thead>\n",
       "    <tr style=\"text-align: right;\">\n",
       "      <th></th>\n",
       "      <th>sales_order_id</th>\n",
       "      <th>customer_id</th>\n",
       "      <th>date</th>\n",
       "    </tr>\n",
       "  </thead>\n",
       "  <tbody>\n",
       "    <tr>\n",
       "      <th>0</th>\n",
       "      <td>1</td>\n",
       "      <td>150</td>\n",
       "      <td>2021-07-16 00:03:19.200752</td>\n",
       "    </tr>\n",
       "  </tbody>\n",
       "</table>\n",
       "</div>"
      ],
      "text/plain": [
       "   sales_order_id  customer_id                       date\n",
       "0               1          150 2021-07-16 00:03:19.200752"
      ]
     },
     "execution_count": 11,
     "metadata": {},
     "output_type": "execute_result"
    }
   ],
   "source": [
    "columns = [\"sales_order_id\", \"customer_id\", \"date\"]\n",
    "df = dbe.pg_to_pd(cur, \"select * from Sales2\", columns)\n",
    "df.head()"
   ]
  },
  {
   "cell_type": "code",
   "execution_count": 12,
   "id": "e10b7f7e",
   "metadata": {},
   "outputs": [
    {
     "data": {
      "text/html": [
       "<div>\n",
       "<style scoped>\n",
       "    .dataframe tbody tr th:only-of-type {\n",
       "        vertical-align: middle;\n",
       "    }\n",
       "\n",
       "    .dataframe tbody tr th {\n",
       "        vertical-align: top;\n",
       "    }\n",
       "\n",
       "    .dataframe thead th {\n",
       "        text-align: right;\n",
       "    }\n",
       "</style>\n",
       "<table border=\"1\" class=\"dataframe\">\n",
       "  <thead>\n",
       "    <tr style=\"text-align: right;\">\n",
       "      <th></th>\n",
       "      <th>sales_order_id</th>\n",
       "      <th>sales_order_item</th>\n",
       "      <th>transaction_value</th>\n",
       "      <th>quantity</th>\n",
       "      <th>discount_value</th>\n",
       "      <th>discounted_value</th>\n",
       "    </tr>\n",
       "  </thead>\n",
       "  <tbody>\n",
       "    <tr>\n",
       "      <th>0</th>\n",
       "      <td>1</td>\n",
       "      <td>2</td>\n",
       "      <td>150.0</td>\n",
       "      <td>2</td>\n",
       "      <td>0.3</td>\n",
       "      <td>150.0</td>\n",
       "    </tr>\n",
       "    <tr>\n",
       "      <th>1</th>\n",
       "      <td>1</td>\n",
       "      <td>3</td>\n",
       "      <td>210.0</td>\n",
       "      <td>1</td>\n",
       "      <td>0.4</td>\n",
       "      <td>210.0</td>\n",
       "    </tr>\n",
       "    <tr>\n",
       "      <th>2</th>\n",
       "      <td>1</td>\n",
       "      <td>4</td>\n",
       "      <td>80.0</td>\n",
       "      <td>3</td>\n",
       "      <td>0.2</td>\n",
       "      <td>80.0</td>\n",
       "    </tr>\n",
       "  </tbody>\n",
       "</table>\n",
       "</div>"
      ],
      "text/plain": [
       "   sales_order_id  sales_order_item  transaction_value  quantity  \\\n",
       "0               1                 2              150.0         2   \n",
       "1               1                 3              210.0         1   \n",
       "2               1                 4               80.0         3   \n",
       "\n",
       "   discount_value  discounted_value  \n",
       "0             0.3             150.0  \n",
       "1             0.4             210.0  \n",
       "2             0.2              80.0  "
      ]
     },
     "execution_count": 12,
     "metadata": {},
     "output_type": "execute_result"
    }
   ],
   "source": [
    "columns = [\"sales_order_id\", \"sales_order_item\", \"transaction_value\", \"quantity\", \"discount_value\", \"discounted_value\"]\n",
    "df = dbe.pg_to_pd(cur, \"select * from Order_detail\", columns)\n",
    "df.head()"
   ]
  },
  {
   "cell_type": "code",
   "execution_count": 13,
   "id": "30a057ea",
   "metadata": {},
   "outputs": [
    {
     "name": "stdout",
     "output_type": "stream",
     "text": [
      "Table updated\n"
     ]
    }
   ],
   "source": [
    "dbe.update(cur, conn, 'order_detail', [1])"
   ]
  },
  {
   "cell_type": "code",
   "execution_count": 14,
   "id": "17578606",
   "metadata": {},
   "outputs": [
    {
     "data": {
      "text/html": [
       "<div>\n",
       "<style scoped>\n",
       "    .dataframe tbody tr th:only-of-type {\n",
       "        vertical-align: middle;\n",
       "    }\n",
       "\n",
       "    .dataframe tbody tr th {\n",
       "        vertical-align: top;\n",
       "    }\n",
       "\n",
       "    .dataframe thead th {\n",
       "        text-align: right;\n",
       "    }\n",
       "</style>\n",
       "<table border=\"1\" class=\"dataframe\">\n",
       "  <thead>\n",
       "    <tr style=\"text-align: right;\">\n",
       "      <th></th>\n",
       "      <th>sales_order_id</th>\n",
       "      <th>sales_order_item</th>\n",
       "      <th>transaction_value</th>\n",
       "      <th>quantity</th>\n",
       "      <th>discount_value</th>\n",
       "      <th>discounted_value</th>\n",
       "    </tr>\n",
       "  </thead>\n",
       "  <tbody>\n",
       "    <tr>\n",
       "      <th>0</th>\n",
       "      <td>1</td>\n",
       "      <td>2</td>\n",
       "      <td>150.0</td>\n",
       "      <td>2</td>\n",
       "      <td>0.3</td>\n",
       "      <td>210.0</td>\n",
       "    </tr>\n",
       "    <tr>\n",
       "      <th>1</th>\n",
       "      <td>1</td>\n",
       "      <td>3</td>\n",
       "      <td>210.0</td>\n",
       "      <td>1</td>\n",
       "      <td>0.4</td>\n",
       "      <td>126.0</td>\n",
       "    </tr>\n",
       "    <tr>\n",
       "      <th>2</th>\n",
       "      <td>1</td>\n",
       "      <td>4</td>\n",
       "      <td>80.0</td>\n",
       "      <td>3</td>\n",
       "      <td>0.2</td>\n",
       "      <td>192.0</td>\n",
       "    </tr>\n",
       "  </tbody>\n",
       "</table>\n",
       "</div>"
      ],
      "text/plain": [
       "   sales_order_id  sales_order_item  transaction_value  quantity  \\\n",
       "0               1                 2              150.0         2   \n",
       "1               1                 3              210.0         1   \n",
       "2               1                 4               80.0         3   \n",
       "\n",
       "   discount_value  discounted_value  \n",
       "0             0.3             210.0  \n",
       "1             0.4             126.0  \n",
       "2             0.2             192.0  "
      ]
     },
     "execution_count": 14,
     "metadata": {},
     "output_type": "execute_result"
    }
   ],
   "source": [
    "columns = [\"sales_order_id\", \"sales_order_item\", \"transaction_value\", \"quantity\", \"discount_value\", \"discounted_value\"]\n",
    "df = dbe.pg_to_pd(cur, \"select * from Order_detail\", columns)\n",
    "df.head()"
   ]
  },
  {
   "cell_type": "code",
   "execution_count": 15,
   "id": "2f10c939",
   "metadata": {},
   "outputs": [
    {
     "name": "stdout",
     "output_type": "stream",
     "text": [
      "Database connection closed\n"
     ]
    }
   ],
   "source": [
    "dbe.close_connection(cur, conn)"
   ]
  }
 ],
 "metadata": {
  "kernelspec": {
   "display_name": "Python 3 (ipykernel)",
   "language": "python",
   "name": "python3"
  },
  "language_info": {
   "codemirror_mode": {
    "name": "ipython",
    "version": 3
   },
   "file_extension": ".py",
   "mimetype": "text/x-python",
   "name": "python",
   "nbconvert_exporter": "python",
   "pygments_lexer": "ipython3",
   "version": "3.9.5"
  }
 },
 "nbformat": 4,
 "nbformat_minor": 5
}
